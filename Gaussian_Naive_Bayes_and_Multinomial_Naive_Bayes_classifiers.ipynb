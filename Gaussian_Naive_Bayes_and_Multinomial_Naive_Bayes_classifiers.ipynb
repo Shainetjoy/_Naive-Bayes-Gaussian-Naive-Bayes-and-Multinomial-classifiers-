{
  "nbformat": 4,
  "nbformat_minor": 0,
  "metadata": {
    "colab": {
      "provenance": []
    },
    "kernelspec": {
      "name": "python3",
      "display_name": "Python 3"
    },
    "language_info": {
      "name": "python"
    }
  },
  "cells": [
    {
      "cell_type": "code",
      "execution_count": null,
      "metadata": {
        "id": "KiQ9wpVpLOD9"
      },
      "outputs": [],
      "source": [
        "from sklearn.datasets import load_wine\n",
        "\n",
        "\n",
        "wine = load_wine()"
      ]
    },
    {
      "cell_type": "code",
      "source": [
        "x= wine.data"
      ],
      "metadata": {
        "id": "7BKxsrrsLdXS"
      },
      "execution_count": null,
      "outputs": []
    },
    {
      "cell_type": "code",
      "source": [
        "y= wine.target"
      ],
      "metadata": {
        "id": "AgVyhEbCLoN3"
      },
      "execution_count": null,
      "outputs": []
    },
    {
      "cell_type": "code",
      "source": [
        "from sklearn.model_selection import train_test_split\n",
        "\n",
        "\n",
        "x_train,x_test,y_train,y_test = train_test_split(x,y,test_size=0.2,random_state=42)"
      ],
      "metadata": {
        "id": "sK7tK09bL5nm"
      },
      "execution_count": null,
      "outputs": []
    },
    {
      "cell_type": "code",
      "source": [
        "from sklearn.preprocessing import  StandardScaler\n",
        "\n",
        "scaler = StandardScaler()"
      ],
      "metadata": {
        "id": "B6oAOF-fMZQs"
      },
      "execution_count": null,
      "outputs": []
    },
    {
      "cell_type": "code",
      "source": [
        "x_train_std = scaler.fit_transform(x_train)\n",
        "\n",
        "x_test_std = scaler.fit_transform(x_test)"
      ],
      "metadata": {
        "id": "1_PzJxgQM0iy"
      },
      "execution_count": null,
      "outputs": []
    },
    {
      "cell_type": "code",
      "source": [
        "from sklearn.preprocessing import MinMaxScaler\n",
        "\n",
        "minmax_scl = MinMaxScaler()\n",
        "x_train_Nor = minmax_scl.fit_transform(x_train)\n",
        "\n",
        "x_test_Nor = minmax_scl.fit_transform(x_test)\n"
      ],
      "metadata": {
        "id": "pJbQEZoBOPLE"
      },
      "execution_count": null,
      "outputs": []
    },
    {
      "cell_type": "code",
      "source": [
        "from sklearn.naive_bayes import  GaussianNB,MultinomialNB\n",
        "from sklearn.metrics import accuracy_score,classification_report\n"
      ],
      "metadata": {
        "id": "DazJ45-9Ot5q"
      },
      "execution_count": null,
      "outputs": []
    },
    {
      "cell_type": "code",
      "source": [
        "model1 = GaussianNB()\n",
        "model1.fit(x_train_std,y_train)\n",
        "\n",
        "\n",
        "y_pred_gnb = model1.predict(x_test_std)\n",
        "print(\"Gaussian Naive Bayes\")\n",
        "print(\"Accuracy:\", accuracy_score(y_test, y_pred_gnb))\n",
        "print(classification_report(y_test, y_pred_gnb))\n"
      ],
      "metadata": {
        "colab": {
          "base_uri": "https://localhost:8080/"
        },
        "id": "YIzr26xuPKsg",
        "outputId": "5b881b19-33e7-4a7c-fb37-67e66d268b5d"
      },
      "execution_count": null,
      "outputs": [
        {
          "output_type": "stream",
          "name": "stdout",
          "text": [
            "Gaussian Naive Bayes\n",
            "Accuracy: 0.9722222222222222\n",
            "              precision    recall  f1-score   support\n",
            "\n",
            "           0       1.00      0.93      0.96        14\n",
            "           1       0.93      1.00      0.97        14\n",
            "           2       1.00      1.00      1.00         8\n",
            "\n",
            "    accuracy                           0.97        36\n",
            "   macro avg       0.98      0.98      0.98        36\n",
            "weighted avg       0.97      0.97      0.97        36\n",
            "\n"
          ]
        }
      ]
    },
    {
      "cell_type": "code",
      "source": [
        "model2 = MultinomialNB()\n",
        "model2.fit(x_train_Nor, y_train)\n",
        "y_pred_mnb = model2.predict(x_test_Nor)\n",
        "print(\"Multinomial Naive Bayes\")\n",
        "print(\"Accuracy:\", accuracy_score(y_test, y_pred_mnb))\n",
        "print(classification_report(y_test, y_pred_mnb))"
      ],
      "metadata": {
        "colab": {
          "base_uri": "https://localhost:8080/"
        },
        "id": "ErTg96O_PtHY",
        "outputId": "8ce90ef7-515d-4180-d858-e2488ade9544"
      },
      "execution_count": null,
      "outputs": [
        {
          "output_type": "stream",
          "name": "stdout",
          "text": [
            "Multinomial Naive Bayes\n",
            "Accuracy: 0.9444444444444444\n",
            "              precision    recall  f1-score   support\n",
            "\n",
            "           0       0.93      0.93      0.93        14\n",
            "           1       0.93      0.93      0.93        14\n",
            "           2       1.00      1.00      1.00         8\n",
            "\n",
            "    accuracy                           0.94        36\n",
            "   macro avg       0.95      0.95      0.95        36\n",
            "weighted avg       0.94      0.94      0.94        36\n",
            "\n"
          ]
        }
      ]
    },
    {
      "cell_type": "code",
      "source": [],
      "metadata": {
        "id": "qxAV-XHDQNkx"
      },
      "execution_count": null,
      "outputs": []
    }
  ]
}